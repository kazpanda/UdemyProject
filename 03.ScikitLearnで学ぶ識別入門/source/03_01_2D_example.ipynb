{
 "cells": [
  {
   "cell_type": "code",
   "execution_count": 1,
   "metadata": {
    "ExecuteTime": {
     "end_time": "2017-06-22T08:20:22.075335Z",
     "start_time": "2017-06-22T08:20:21.808578Z"
    }
   },
   "outputs": [],
   "source": [
    "# numpyの準備\n",
    "import numpy as np"
   ]
  },
  {
   "cell_type": "code",
   "execution_count": 2,
   "metadata": {
    "ExecuteTime": {
     "end_time": "2017-06-22T08:20:22.194242Z",
     "start_time": "2017-06-22T08:20:22.076397Z"
    }
   },
   "outputs": [
    {
     "name": "stdout",
     "output_type": "stream",
     "text": [
      "1,-7.428476,1.509903\r\n",
      "0,2.980693,1.960821\r\n",
      "0,3.988255,4.636389\r\n",
      "1,-5.789437,-4.621614\r\n",
      "1,-4.894447,-3.269730\r\n",
      "1,-1.933949,-0.047276\r\n",
      "0,-1.611771,5.932201\r\n",
      "1,-6.670152,-1.036282\r\n",
      "1,-2.931415,-0.104475\r\n",
      "0,-0.074762,1.070002\r\n",
      "1,-2.691793,4.168774\r\n",
      "0,0.461182,3.453438\r\n",
      "0,-1.354135,3.751657\r\n",
      "1,-6.229476,-1.209434\r\n",
      "0,2.778594,7.582103\r\n",
      "1,-5.719578,-0.243509\r\n",
      "0,0.928322,3.208520\r\n",
      "0,0.850475,2.908955\r\n",
      "1,-6.029489,-1.831199\r\n",
      "0,1.116025,3.353602\r\n"
     ]
    }
   ],
   "source": [
    "# csvファイルの表示\n",
    "!cat 2D_example.csv"
   ]
  },
  {
   "cell_type": "code",
   "execution_count": 3,
   "metadata": {
    "ExecuteTime": {
     "end_time": "2017-06-22T08:20:22.199678Z",
     "start_time": "2017-06-22T08:20:22.195384Z"
    }
   },
   "outputs": [
    {
     "name": "stdout",
     "output_type": "stream",
     "text": [
      "1,-7.428476,1.509903\n",
      "0,2.980693,1.960821\n",
      "0,3.988255,4.636389\n",
      "1,-5.789437,-4.621614\n",
      "1,-4.894447,-3.269730\n",
      "1,-1.933949,-0.047276\n",
      "0,-1.611771,5.932201\n",
      "1,-6.670152,-1.036282\n",
      "1,-2.931415,-0.104475\n",
      "0,-0.074762,1.070002\n",
      "1,-2.691793,4.168774\n",
      "0,0.461182,3.453438\n",
      "0,-1.354135,3.751657\n",
      "1,-6.229476,-1.209434\n",
      "0,2.778594,7.582103\n",
      "1,-5.719578,-0.243509\n",
      "0,0.928322,3.208520\n",
      "0,0.850475,2.908955\n",
      "1,-6.029489,-1.831199\n",
      "0,1.116025,3.353602\n",
      "\n"
     ]
    }
   ],
   "source": [
    "with open('2D_example.csv') as f:\n",
    "    print(f.read())"
   ]
  },
  {
   "cell_type": "code",
   "execution_count": 4,
   "metadata": {
    "ExecuteTime": {
     "end_time": "2017-06-22T08:20:22.205129Z",
     "start_time": "2017-06-22T08:20:22.201367Z"
    }
   },
   "outputs": [],
   "source": [
    "# # making 2D_example.csv\n",
    "# import numpy as np\n",
    "# from sklearn.datasets import make_blobs\n",
    "# X, y = make_blobs(n_samples=20, # 20個生成\n",
    "#                   n_features=2, # 2次元\n",
    "#                   centers=2,    # クラスタ中心2個\n",
    "#                   cluster_std = 2, # クラスタの大きさ（標準偏差）\n",
    "#                   random_state=3   # 乱数種（再現用）\n",
    "#                  )\n",
    "# np.savetxt(\"2D_example.csv\", np.hstack((y.reshape(20,1), X)), fmt=\"%d,%f,%f\")"
   ]
  },
  {
   "cell_type": "code",
   "execution_count": 5,
   "metadata": {
    "ExecuteTime": {
     "end_time": "2017-06-22T08:20:22.210441Z",
     "start_time": "2017-06-22T08:20:22.206581Z"
    }
   },
   "outputs": [],
   "source": [
    "# dataにデータをセット\n",
    "data = np.loadtxt(\"2D_example.csv\", delimiter=\",\")"
   ]
  },
  {
   "cell_type": "code",
   "execution_count": 6,
   "metadata": {
    "ExecuteTime": {
     "end_time": "2017-06-22T08:20:22.230553Z",
     "start_time": "2017-06-22T08:20:22.211807Z"
    }
   },
   "outputs": [],
   "source": [
    "y = data[:,0].astype(int) # 1列目がラベル．整数に変換"
   ]
  },
  {
   "cell_type": "code",
   "execution_count": 7,
   "metadata": {
    "ExecuteTime": {
     "end_time": "2017-06-22T08:20:22.241550Z",
     "start_time": "2017-06-22T08:20:22.231994Z"
    }
   },
   "outputs": [
    {
     "data": {
      "text/plain": [
       "array([1, 0, 0, 1, 1, 1, 0, 1, 1, 0, 1, 0, 0, 1, 0, 1, 0, 0, 1, 0])"
      ]
     },
     "execution_count": 7,
     "metadata": {},
     "output_type": "execute_result"
    }
   ],
   "source": [
    "y"
   ]
  },
  {
   "cell_type": "code",
   "execution_count": 8,
   "metadata": {
    "ExecuteTime": {
     "end_time": "2017-06-22T08:20:22.245889Z",
     "start_time": "2017-06-22T08:20:22.243188Z"
    }
   },
   "outputs": [],
   "source": [
    "X = data[:,1:3] # 2,3列目がデータ"
   ]
  },
  {
   "cell_type": "code",
   "execution_count": 9,
   "metadata": {
    "ExecuteTime": {
     "end_time": "2017-06-22T08:20:22.252328Z",
     "start_time": "2017-06-22T08:20:22.247457Z"
    }
   },
   "outputs": [
    {
     "data": {
      "text/plain": [
       "array([[-7.428476,  1.509903],\n",
       "       [ 2.980693,  1.960821],\n",
       "       [ 3.988255,  4.636389],\n",
       "       [-5.789437, -4.621614],\n",
       "       [-4.894447, -3.26973 ],\n",
       "       [-1.933949, -0.047276],\n",
       "       [-1.611771,  5.932201],\n",
       "       [-6.670152, -1.036282],\n",
       "       [-2.931415, -0.104475],\n",
       "       [-0.074762,  1.070002],\n",
       "       [-2.691793,  4.168774],\n",
       "       [ 0.461182,  3.453438],\n",
       "       [-1.354135,  3.751657],\n",
       "       [-6.229476, -1.209434],\n",
       "       [ 2.778594,  7.582103],\n",
       "       [-5.719578, -0.243509],\n",
       "       [ 0.928322,  3.20852 ],\n",
       "       [ 0.850475,  2.908955],\n",
       "       [-6.029489, -1.831199],\n",
       "       [ 1.116025,  3.353602]])"
      ]
     },
     "execution_count": 9,
     "metadata": {},
     "output_type": "execute_result"
    }
   ],
   "source": [
    "X"
   ]
  },
  {
   "cell_type": "code",
   "execution_count": 10,
   "metadata": {
    "ExecuteTime": {
     "end_time": "2017-06-22T08:20:22.258725Z",
     "start_time": "2017-06-22T08:20:22.253777Z"
    },
    "scrolled": true
   },
   "outputs": [
    {
     "data": {
      "text/plain": [
       "array([-7.428476,  2.980693,  3.988255, -5.789437, -4.894447, -1.933949,\n",
       "       -1.611771, -6.670152, -2.931415, -0.074762, -2.691793,  0.461182,\n",
       "       -1.354135, -6.229476,  2.778594, -5.719578,  0.928322,  0.850475,\n",
       "       -6.029489,  1.116025])"
      ]
     },
     "execution_count": 10,
     "metadata": {},
     "output_type": "execute_result"
    }
   ],
   "source": [
    "X[:, 0] # Xの1列目（csvファイルの2列目）"
   ]
  },
  {
   "cell_type": "code",
   "execution_count": 11,
   "metadata": {
    "ExecuteTime": {
     "end_time": "2017-06-22T08:20:22.265264Z",
     "start_time": "2017-06-22T08:20:22.260209Z"
    }
   },
   "outputs": [
    {
     "data": {
      "text/plain": [
       "array([ 1.509903,  1.960821,  4.636389, -4.621614, -3.26973 , -0.047276,\n",
       "        5.932201, -1.036282, -0.104475,  1.070002,  4.168774,  3.453438,\n",
       "        3.751657, -1.209434,  7.582103, -0.243509,  3.20852 ,  2.908955,\n",
       "       -1.831199,  3.353602])"
      ]
     },
     "execution_count": 11,
     "metadata": {},
     "output_type": "execute_result"
    }
   ],
   "source": [
    "X[:, 1] # Xの2列目（csvファイルの3列目）"
   ]
  },
  {
   "cell_type": "code",
   "execution_count": 12,
   "metadata": {
    "ExecuteTime": {
     "end_time": "2017-06-22T08:20:22.511468Z",
     "start_time": "2017-06-22T08:20:22.266920Z"
    }
   },
   "outputs": [
    {
     "data": {
      "text/plain": [
       "<Figure size 432x288 with 0 Axes>"
      ]
     },
     "metadata": {},
     "output_type": "display_data"
    }
   ],
   "source": [
    "# matplotlibの準備\n",
    "import matplotlib.pyplot as plt\n",
    "%matplotlib inline\n",
    "plt.set_cmap(plt.cm.Paired) # 色設定"
   ]
  },
  {
   "cell_type": "code",
   "execution_count": 13,
   "metadata": {
    "ExecuteTime": {
     "end_time": "2017-06-22T08:20:22.630243Z",
     "start_time": "2017-06-22T08:20:22.512680Z"
    },
    "scrolled": false
   },
   "outputs": [
    {
     "data": {
      "image/png": "[encoded data removed]",
      "text/plain": [
       "<Figure size 432x288 with 1 Axes>"
      ]
     },
     "metadata": {
      "needs_background": "light"
     },
     "output_type": "display_data"
    }
   ],
   "source": [
    "# 2次元散布図でプロット\n",
    "plt.scatter(X[:, 0], X[:, 1], c=y, s=50, edgecolors='k');"
   ]
  },
  {
   "cell_type": "code",
   "execution_count": 14,
   "metadata": {
    "ExecuteTime": {
     "end_time": "2017-06-22T08:20:22.654288Z",
     "start_time": "2017-06-22T08:20:22.631634Z"
    }
   },
   "outputs": [],
   "source": [
    "# 境界線を引く関数の定義\n",
    "\n",
    "def plotBoundary(X, clf, mesh=True, boundary=True, n_neighbors=1):\n",
    "\n",
    "    # plot range\n",
    "    x_min = min(X[:,0])\n",
    "    x_max = max(X[:,0])\n",
    "    y_min = min(X[:,1])\n",
    "    y_max = max(X[:,1])\n",
    "\n",
    "    # visualizing decision function\n",
    "    XX, YY = np.mgrid[x_min:x_max:200j, y_min:y_max:200j] # make a grid\n",
    "    \n",
    "    Z = clf.predict(np.c_[XX.ravel(), YY.ravel()]) # evaluate the value \n",
    "    \n",
    "    Z = Z.reshape(XX.shape) # just reshape\n",
    "\n",
    "    if mesh:\n",
    "        plt.pcolormesh(XX, YY, Z, zorder=-10) # paint in 2 colors, if Z > 0 or not\n",
    "\n",
    "    if boundary:\n",
    "        plt.contour(XX, YY, Z, \n",
    "                    colors='k', linestyles='-', levels=[0])\n",
    "\n",
    "    plt.xlim(x_min, x_max)\n",
    "    plt.ylim(y_min, y_max)"
   ]
  },
  {
   "cell_type": "code",
   "execution_count": 15,
   "metadata": {
    "ExecuteTime": {
     "end_time": "2017-06-22T08:20:25.250051Z",
     "start_time": "2017-06-22T08:20:22.656098Z"
    }
   },
   "outputs": [],
   "source": [
    "# モジュールの準備\n",
    "from sklearn import neighbors\n",
    "\n",
    "# オブジェクト作成\n",
    "clf = neighbors.KNeighborsClassifier(n_neighbors=1)"
   ]
  },
  {
   "cell_type": "code",
   "execution_count": 16,
   "metadata": {
    "ExecuteTime": {
     "end_time": "2017-06-22T08:20:25.413574Z",
     "start_time": "2017-06-22T08:20:25.251682Z"
    },
    "scrolled": true
   },
   "outputs": [
    {
     "name": "stderr",
     "output_type": "stream",
     "text": [
      "/Users/kazpanda/opt/anaconda3/envs/FX_Evaluation/lib/python3.7/site-packages/ipykernel_launcher.py:23: UserWarning: No contour levels were found within the data range.\n"
     ]
    },
    {
     "data": {
      "image/png": "[encoded data removed]",
      "text/plain": [
       "<Figure size 432x288 with 1 Axes>"
      ]
     },
     "metadata": {
      "needs_background": "light"
     },
     "output_type": "display_data"
    }
   ],
   "source": [
    "clf.fit(X, y) # 学習\n",
    "\n",
    "plt.scatter(X[:, 0], X[:, 1], marker='o', s=50, c=y, edgecolors='k')\n",
    "\n",
    "plotBoundary(X, clf) # 境界線の描画"
   ]
  },
  {
   "cell_type": "code",
   "execution_count": 17,
   "metadata": {
    "ExecuteTime": {
     "end_time": "2017-06-22T08:20:25.863684Z",
     "start_time": "2017-06-22T08:20:25.414899Z"
    }
   },
   "outputs": [],
   "source": [
    "# モジュールの準備\n",
    "from sklearn import linear_model\n",
    "\n",
    "# オブジェクト作成\n",
    "clf = linear_model.LogisticRegression()"
   ]
  },
  {
   "cell_type": "code",
   "execution_count": 18,
   "metadata": {
    "ExecuteTime": {
     "end_time": "2017-06-22T08:20:26.063814Z",
     "start_time": "2017-06-22T08:20:25.864918Z"
    }
   },
   "outputs": [
    {
     "name": "stderr",
     "output_type": "stream",
     "text": [
      "/Users/kazpanda/opt/anaconda3/envs/FX_Evaluation/lib/python3.7/site-packages/ipykernel_launcher.py:23: UserWarning: No contour levels were found within the data range.\n"
     ]
    },
    {
     "data": {
      "image/png": "[encoded data removed]",
      "text/plain": [
       "<Figure size 432x288 with 1 Axes>"
      ]
     },
     "metadata": {
      "needs_background": "light"
     },
     "output_type": "display_data"
    }
   ],
   "source": [
    "clf.fit(X, y) # 学習\n",
    "\n",
    "plt.scatter(X[:, 0], X[:, 1], marker='o', s=50, c=y, edgecolors='k')\n",
    "\n",
    "plotBoundary(X, clf) # 境界線の描画"
   ]
  },
  {
   "cell_type": "code",
   "execution_count": 19,
   "metadata": {
    "ExecuteTime": {
     "end_time": "2017-06-22T08:20:26.067708Z",
     "start_time": "2017-06-22T08:20:26.064977Z"
    }
   },
   "outputs": [],
   "source": [
    "# モジュールの準備\n",
    "from sklearn import svm\n",
    "\n",
    "# オブジェクト作成\n",
    "clf = svm.SVC(kernel='linear')"
   ]
  },
  {
   "cell_type": "code",
   "execution_count": 20,
   "metadata": {
    "ExecuteTime": {
     "end_time": "2017-06-22T08:20:26.249487Z",
     "start_time": "2017-06-22T08:20:26.069112Z"
    }
   },
   "outputs": [
    {
     "name": "stderr",
     "output_type": "stream",
     "text": [
      "/Users/kazpanda/opt/anaconda3/envs/FX_Evaluation/lib/python3.7/site-packages/ipykernel_launcher.py:23: UserWarning: No contour levels were found within the data range.\n"
     ]
    },
    {
     "data": {
      "image/png": "[encoded data removed]",
      "text/plain": [
       "<Figure size 432x288 with 1 Axes>"
      ]
     },
     "metadata": {
      "needs_background": "light"
     },
     "output_type": "display_data"
    }
   ],
   "source": [
    "clf.fit(X, y) # 学習\n",
    "\n",
    "plt.scatter(X[:, 0], X[:, 1], marker='o', s=50, c=y, edgecolors='k')\n",
    "\n",
    "plotBoundary(X, clf) # 境界線の描画"
   ]
  },
  {
   "cell_type": "code",
   "execution_count": 21,
   "metadata": {
    "ExecuteTime": {
     "end_time": "2017-06-22T08:20:26.254256Z",
     "start_time": "2017-06-22T08:20:26.250968Z"
    }
   },
   "outputs": [],
   "source": [
    "# モジュールの準備\n",
    "from sklearn import svm\n",
    "\n",
    "# オブジェクト作成\n",
    "clf = svm.SVC(kernel='rbf')"
   ]
  },
  {
   "cell_type": "code",
   "execution_count": 22,
   "metadata": {
    "ExecuteTime": {
     "end_time": "2017-06-22T08:20:26.424864Z",
     "start_time": "2017-06-22T08:20:26.255814Z"
    }
   },
   "outputs": [
    {
     "name": "stderr",
     "output_type": "stream",
     "text": [
      "/Users/kazpanda/opt/anaconda3/envs/FX_Evaluation/lib/python3.7/site-packages/ipykernel_launcher.py:23: UserWarning: No contour levels were found within the data range.\n"
     ]
    },
    {
     "data": {
      "image/png": "[encoded data removed]",
      "text/plain": [
       "<Figure size 432x288 with 1 Axes>"
      ]
     },
     "metadata": {
      "needs_background": "light"
     },
     "output_type": "display_data"
    }
   ],
   "source": [
    "clf.fit(X, y) # 学習\n",
    "\n",
    "plt.scatter(X[:, 0], X[:, 1], marker='o', s=50, c=y, edgecolors='k')\n",
    "\n",
    "plotBoundary(X, clf) # 境界線の描画"
   ]
  },
  {
   "cell_type": "code",
   "execution_count": null,
   "metadata": {},
   "outputs": [],
   "source": []
  },
  {
   "cell_type": "code",
   "execution_count": null,
   "metadata": {},
   "outputs": [],
   "source": []
  }
 ],
 "metadata": {
  "anaconda-cloud": {},
  "kernelspec": {
   "display_name": "Python 3",
   "language": "python",
   "name": "python3"
  },
  "language_info": {
   "codemirror_mode": {
    "name": "ipython",
    "version": 3
   },
   "file_extension": ".py",
   "mimetype": "text/x-python",
   "name": "python",
   "nbconvert_exporter": "python",
   "pygments_lexer": "ipython3",
   "version": "3.7.7"
  },
  "toc": {
   "colors": {
    "hover_highlight": "#DAA520",
    "running_highlight": "#FF0000",
    "selected_highlight": "#FFD700"
   },
   "moveMenuLeft": true,
   "nav_menu": {
    "height": "12px",
    "width": "252px"
   },
   "navigate_menu": true,
   "number_sections": true,
   "sideBar": true,
   "threshold": 4,
   "toc_cell": false,
   "toc_section_display": "block",
   "toc_window_display": false,
   "widenNotebook": false
  }
 },
 "nbformat": 4,
 "nbformat_minor": 1
}
